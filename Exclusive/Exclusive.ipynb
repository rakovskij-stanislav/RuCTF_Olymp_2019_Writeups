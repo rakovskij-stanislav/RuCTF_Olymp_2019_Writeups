{
 "cells": [
  {
   "cell_type": "markdown",
   "metadata": {},
   "source": [
    "# RuCTF Olymp Quals 2019\n",
    "## Reverse 100: Exclusive\n",
    "### Writeup: <span style=\"color:blue\">Rakovsky Stanislav / Reganel RSA</span>"
   ]
  },
  {
   "cell_type": "raw",
   "metadata": {},
   "source": [
    "Описание:\n",
    "    Looks like the author of the given binary used some encryption to protect the flag. He's pretty smart, but you're smarter, aren't you? Remember, some ciphers is not easy."
   ]
  },
  {
   "cell_type": "markdown",
   "metadata": {},
   "source": [
    "![](writeup_media/DIE.png)"
   ]
  },
  {
   "cell_type": "markdown",
   "metadata": {},
   "source": [
    "Видим ELF64, открываем IDA64"
   ]
  },
  {
   "cell_type": "markdown",
   "metadata": {},
   "source": [
    "![](writeup_media/IDA1.png)"
   ]
  },
  {
   "cell_type": "markdown",
   "metadata": {},
   "source": [
    "![](writeup_media/IDA2.png)"
   ]
  },
  {
   "cell_type": "markdown",
   "metadata": {},
   "source": [
    "Поменяли определение функции, стало красивее:\n",
    "![](writeup_media/IDA3.png)"
   ]
  },
  {
   "cell_type": "code",
   "execution_count": 1,
   "metadata": {},
   "outputs": [
    {
     "name": "stdout",
     "output_type": "stream",
     "text": [
      "37\n"
     ]
    }
   ],
   "source": [
    "key = \"flag{yoO_k1ddo_y0U_waNna_s0m3_h4ck??}\"\n",
    "print(len(key)) #37. Не Мы видим, что используются 38 символов. Забыли нулевой)\n",
    "key+='\\x00'"
   ]
  },
  {
   "cell_type": "markdown",
   "metadata": {},
   "source": [
    "Для того, чтобы достать expected, набросаем скрипт на IDAPython:"
   ]
  },
  {
   "cell_type": "code",
   "execution_count": null,
   "metadata": {},
   "outputs": [],
   "source": [
    ">> buf = idc.GetManyBytes(0x601060, 38)\n",
    ">> buf = [ord(i) for i in buf]\n",
    ">> buf\n",
    "[52, 25, 34, 51, 61, 38, 86, 123, 105, 83, 85, 93, 6, 93, 105, 24, 0, 55, 58, 67, 82, 119, 93, 86, 108, 68, 1, 9, 4, 102, 81, 0, 82, 90, 7, 90, 78, 53]"
   ]
  },
  {
   "cell_type": "code",
   "execution_count": 2,
   "metadata": {},
   "outputs": [
    {
     "name": "stdout",
     "output_type": "stream",
     "text": [
      "RuCTF_9468d9b26a0be43937371d7994118e35"
     ]
    }
   ],
   "source": [
    "buf = [52, 25, 34, 51, 61, 38, 86, 123, 105, 83, 85, 93, 6, 93, 105, 24, 0, 55, 58, 67, 82, 119, 93, 86, 108, 68, 1, 9, 4, 102, 81, 0, 82, 90, 7, 90, 78, 53]\n",
    "for i in range(38):\n",
    "    print(\n",
    "        chr(\n",
    "            ord(key[i])^buf[i]\n",
    "        ), end=''\n",
    "    )"
   ]
  },
  {
   "cell_type": "markdown",
   "metadata": {},
   "source": [
    "Флаг: <span style=\"color:blue\">RuCTF_9468d9b26a0be43937371d7994118e35</span>"
   ]
  }
 ],
 "metadata": {
  "kernelspec": {
   "display_name": "Python 3",
   "language": "python",
   "name": "python3"
  },
  "language_info": {
   "codemirror_mode": {
    "name": "ipython",
    "version": 3
   },
   "file_extension": ".py",
   "mimetype": "text/x-python",
   "name": "python",
   "nbconvert_exporter": "python",
   "pygments_lexer": "ipython3",
   "version": "3.5.2"
  }
 },
 "nbformat": 4,
 "nbformat_minor": 2
}
