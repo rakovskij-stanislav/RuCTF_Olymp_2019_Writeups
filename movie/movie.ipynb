{
 "cells": [
  {
   "cell_type": "markdown",
   "metadata": {},
   "source": [
    "# RuCTF Olymp Quals 2019\n",
    "## Reverse 200: Movie\n",
    "### Writeup: <span style=\"color:blue\">Rakovsky Stanislav / Reganel RSA</span>"
   ]
  },
  {
   "cell_type": "markdown",
   "metadata": {},
   "source": [
    "Описание:\n",
    "    What is your favourite movie?"
   ]
  },
  {
   "cell_type": "markdown",
   "metadata": {},
   "source": [
    "Проверяем файл с помощью DIE:\n",
    "![](writeup_media/DIE.png)"
   ]
  },
  {
   "cell_type": "markdown",
   "metadata": {},
   "source": [
    "Эльф, упакованный UPX'ом. Сперва снимем пакер:\n",
    "![](writeup_media/UPX.png)"
   ]
  },
  {
   "cell_type": "markdown",
   "metadata": {},
   "source": [
    "Снова смотрим файл:\n",
    "![](writeup_media/DIE2.png)"
   ]
  },
  {
   "cell_type": "markdown",
   "metadata": {},
   "source": [
    "Запускаем IDA x32.\n",
    "\n",
    "Ctrl+E для того, чтобы прыгнуть на Entry Point (точку входа)\n",
    "\n",
    "Hex-Rays не хочет брать этот участок, ведь он не обозначен как функция\n",
    "\n",
    "![](writeup_media/IDA1.png)\n",
    "\n",
    "Нажимаем P: возникает ошибка `.text:0804EB51: The function has undefined instruction/data at the specified address.`\n",
    "\n",
    "Через Ctrl+G идем на 0x804eb51. Видим, что это длиннющая функция с большим количеством mov'ов. Можно посмотреть, что творится в динамике.\n",
    "\n",
    "Попробуем запустить файл на удаленной отладке. Однако...\n",
    "\n",
    "![](writeup_media/IDA2.png)\n",
    "\n",
    "А если запустить просто файл?\n",
    "\n",
    "![](writeup_media/linux1.png)\n",
    "\n",
    "В такие моменты есть только одно желание: задампить память. Просто потому что я участник боевых действий на QCTF Starter 2018, они научили дампить память при любой непонятной ситуации.\n",
    "\n",
    "Ищем PID через htop:\n",
    "\n",
    "![](writeup_media/linux2.png)\n",
    "\n",
    "Wait a minute! Они удаляют какой-то файл через 0.1 секунду после того, как его создали? [Нужно их опередить!](https://www.youtube.com/watch?v=wgUczLEUWkA)\n",
    "\n",
    "Шучу. Мы не будем запускать бинарник и потом в файловом менеджере его пытаться поймать. Мы не будем писать скрипты на питоне, которые будут ловить появление этого файла и сразу его считывать. Мы просто [порвём пространственно-временной континиум, переименовав команду rm](https://www.youtube.com/watch?v=dNQs_Bef_V8):\n",
    "\n",
    "```bash\n",
    "sudo mv /bin/rm /bin/rm_\n",
    "```\n",
    "\n",
    "Запустим повторно бинарник, посмотрим содержимое `/tmp/your_favourite_movie`:"
   ]
  },
  {
   "cell_type": "raw",
   "metadata": {},
   "source": [
    "echo \"[*] Hello! Please, enter the flag\"; read flag; if [ \"${flag:0:1}\" == \"R\" ]; then if [ \"${flag:1:1}\" == \"u\" ]; then if [ \"${flag:2:1}\" == \"C\" ]; then if [ \"${flag:3:1}\" == \"T\" ]; then if [ \"${flag:4:1}\" == \"F\" ]; then if [ \"${flag:5:1}\" == \"_\" ]; then if [ \"${flag:6:1}\" == \"7\" ]; then if [ \"${flag:7:1}\" == \"2\" ]; then if [ \"${flag:8:1}\" == \"e\" ]; then if [ \"${flag:9:1}\" == \"d\" ]; then if [ \"${flag:10:1}\" == \"5\" ]; then if [ \"${flag:11:1}\" == \"f\" ]; then if [ \"${flag:12:1}\" == \"3\" ]; then if [ \"${flag:13:1}\" == \"c\" ]; then if [ \"${flag:14:1}\" == \"4\" ]; then if [ \"${flag:15:1}\" == \"6\" ]; then if [ \"${flag:16:1}\" == \"7\" ]; then if [ \"${flag:17:1}\" == \"3\" ]; then if [ \"${flag:18:1}\" == \"4\" ]; then if [ \"${flag:19:1}\" == \"e\" ]; then if [ \"${flag:20:1}\" == \"1\" ]; then if [ \"${flag:21:1}\" == \"d\" ]; then if [ \"${flag:22:1}\" == \"8\" ]; then if [ \"${flag:23:1}\" == \"8\" ]; then if [ \"${flag:24:1}\" == \"6\" ]; then if [ \"${flag:25:1}\" == \"8\" ]; then if [ \"${flag:26:1}\" == \"7\" ]; then if [ \"${flag:27:1}\" == \"d\" ]; then if [ \"${flag:28:1}\" == \"3\" ]; then if [ \"${flag:29:1}\" == \"e\" ]; then if [ \"${flag:30:1}\" == \"9\" ]; then if [ \"${flag:31:1}\" == \"9\" ]; then if [ \"${flag:32:1}\" == \"c\" ]; then if [ \"${flag:33:1}\" == \"e\" ]; then if [ \"${flag:34:1}\" == \"e\" ]; then if [ \"${flag:35:1}\" == \"7\" ]; then if [ \"${flag:36:1}\" == \"8\" ]; then if [ \"${flag:37:1}\" == \"e\" ]; then echo \"[+] Correct flag :)\"; exit 0; fi; fi; fi; fi; fi; fi; fi; fi; fi; fi; fi; fi; fi; fi; fi; fi; fi; fi; fi; fi; fi; fi; fi; fi; fi; fi; fi; fi; fi; fi; fi; fi; fi; fi; fi; fi; fi; fi;  echo \"[-] Wrong flag :(\"; exit 1;"
   ]
  },
  {
   "cell_type": "markdown",
   "metadata": {},
   "source": [
    "Возвращаем всё на место:\n",
    "```bash\n",
    "sudo mv /bin/rm_ /bin/rm\n",
    "```\n",
    "\n",
    "Ручками доставать буквы неинтересно, пишем скрипт:"
   ]
  },
  {
   "cell_type": "code",
   "execution_count": 3,
   "metadata": {},
   "outputs": [
    {
     "name": "stdout",
     "output_type": "stream",
     "text": [
      "RuCTF_72ed5f3c46734e1d88687d3e99cee78e"
     ]
    }
   ],
   "source": [
    "a = \"\"\"echo \"[*] Hello! Please, enter the flag\"; read flag; if [ \"${flag:0:1}\" == \"R\" ]; then if [ \"${flag:1:1}\" == \"u\" ]; then if [ \"${flag:2:1}\" == \"C\" ]; then if [ \"${flag:3:1}\" == \"T\" ]; then if [ \"${flag:4:1}\" == \"F\" ]; then if [ \"${flag:5:1}\" == \"_\" ]; then if [ \"${flag:6:1}\" == \"7\" ]; then if [ \"${flag:7:1}\" == \"2\" ]; then if [ \"${flag:8:1}\" == \"e\" ]; then if [ \"${flag:9:1}\" == \"d\" ]; then if [ \"${flag:10:1}\" == \"5\" ]; then if [ \"${flag:11:1}\" == \"f\" ]; then if [ \"${flag:12:1}\" == \"3\" ]; then if [ \"${flag:13:1}\" == \"c\" ]; then if [ \"${flag:14:1}\" == \"4\" ]; then if [ \"${flag:15:1}\" == \"6\" ]; then if [ \"${flag:16:1}\" == \"7\" ]; then if [ \"${flag:17:1}\" == \"3\" ]; then if [ \"${flag:18:1}\" == \"4\" ]; then if [ \"${flag:19:1}\" == \"e\" ]; then if [ \"${flag:20:1}\" == \"1\" ]; then if [ \"${flag:21:1}\" == \"d\" ]; then if [ \"${flag:22:1}\" == \"8\" ]; then if [ \"${flag:23:1}\" == \"8\" ]; then if [ \"${flag:24:1}\" == \"6\" ]; then if [ \"${flag:25:1}\" == \"8\" ]; then if [ \"${flag:26:1}\" == \"7\" ]; then if [ \"${flag:27:1}\" == \"d\" ]; then if [ \"${flag:28:1}\" == \"3\" ]; then if [ \"${flag:29:1}\" == \"e\" ]; then if [ \"${flag:30:1}\" == \"9\" ]; then if [ \"${flag:31:1}\" == \"9\" ]; then if [ \"${flag:32:1}\" == \"c\" ]; then if [ \"${flag:33:1}\" == \"e\" ]; then if [ \"${flag:34:1}\" == \"e\" ]; then if [ \"${flag:35:1}\" == \"7\" ]; then if [ \"${flag:36:1}\" == \"8\" ]; then if [ \"${flag:37:1}\" == \"e\" ]; then echo \"[+] Correct flag :)\"; exit 0; fi; fi; fi; fi; fi; fi; fi; fi; fi; fi; fi; fi; fi; fi; fi; fi; fi; fi; fi; fi; fi; fi; fi; fi; fi; fi; fi; fi; fi; fi; fi; fi; fi; fi; fi; fi; fi; fi;  echo \"[-] Wrong flag :(\"; exit 1;\"\"\"\n",
    "f = 0\n",
    "while 1:\n",
    "    f = a.find('\" == \"', f+1)\n",
    "    if f==-1:\n",
    "        break\n",
    "    print(a[f+6], end='')"
   ]
  },
  {
   "cell_type": "markdown",
   "metadata": {},
   "source": [
    "Всё! Вы замечательны!\n",
    "\n",
    "PS: Если ты решил этот таск как-то иначе (мб как-то в Иде шаманил) - свяжись со мной)"
   ]
  },
  {
   "cell_type": "code",
   "execution_count": null,
   "metadata": {},
   "outputs": [],
   "source": []
  }
 ],
 "metadata": {
  "kernelspec": {
   "display_name": "Python 3",
   "language": "python",
   "name": "python3"
  },
  "language_info": {
   "codemirror_mode": {
    "name": "ipython",
    "version": 3
   },
   "file_extension": ".py",
   "mimetype": "text/x-python",
   "name": "python",
   "nbconvert_exporter": "python",
   "pygments_lexer": "ipython3",
   "version": "3.5.2"
  }
 },
 "nbformat": 4,
 "nbformat_minor": 2
}
